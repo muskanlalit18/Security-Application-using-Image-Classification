{
  "nbformat": 4,
  "nbformat_minor": 0,
  "metadata": {
    "colab": {
      "name": "CNN",
      "provenance": [],
      "collapsed_sections": [],
      "toc_visible": true,
      "include_colab_link": true
    },
    "kernelspec": {
      "name": "python3",
      "display_name": "Python 3"
    }
  },
  "cells": [
    {
      "cell_type": "markdown",
      "metadata": {
        "id": "view-in-github",
        "colab_type": "text"
      },
      "source": [
        "<a href=\"https://colab.research.google.com/github/muskanlalit18/Security-Application-using-Image-Classification/blob/master/CNN.ipynb\" target=\"_parent\"><img src=\"https://colab.research.google.com/assets/colab-badge.svg\" alt=\"Open In Colab\"/></a>"
      ]
    },
    {
      "cell_type": "markdown",
      "metadata": {
        "id": "Hc608XPTiwEo",
        "colab_type": "text"
      },
      "source": [
        "# Part 1 Building the CNN\n",
        "\n",
        "# Importing Keras packages and libraries"
      ]
    },
    {
      "cell_type": "code",
      "metadata": {
        "id": "VbLSsblgijND",
        "colab_type": "code",
        "colab": {}
      },
      "source": [
        "%tensorflow_version 1.14\n",
        "from keras.models import Sequential\n",
        "from keras.layers import Convolution2D\n",
        "from keras.layers import MaxPooling2D\n",
        "from keras.layers import Flatten\n",
        "from keras.layers import Dense\n",
        "\n",
        "\n",
        "\n"
      ],
      "execution_count": 0,
      "outputs": []
    },
    {
      "cell_type": "markdown",
      "metadata": {
        "id": "H1BJQzJwisve",
        "colab_type": "text"
      },
      "source": [
        "\n",
        "#Initializing the CNN\n"
      ]
    },
    {
      "cell_type": "code",
      "metadata": {
        "id": "4Z_kB2kJi1-E",
        "colab_type": "code",
        "colab": {}
      },
      "source": [
        "\n",
        "classifier = Sequential()\n",
        "\n"
      ],
      "execution_count": 0,
      "outputs": []
    },
    {
      "cell_type": "markdown",
      "metadata": {
        "id": "daK0Xah6jWFZ",
        "colab_type": "text"
      },
      "source": [
        "#Step 1 - Convolution\n"
      ]
    },
    {
      "cell_type": "code",
      "metadata": {
        "id": "gnP8mufBjYlM",
        "colab_type": "code",
        "colab": {}
      },
      "source": [
        "\n",
        "classifier.add(Convolution2D(filters = 32, kernel_size = (3, 3), input_shape = (128, 128, 3), activation = 'relu'))\n",
        "\n"
      ],
      "execution_count": 0,
      "outputs": []
    },
    {
      "cell_type": "markdown",
      "metadata": {
        "id": "3otkMxwTjdi1",
        "colab_type": "text"
      },
      "source": [
        "\n",
        "\n",
        "#Step 2 - Pooling"
      ]
    },
    {
      "cell_type": "code",
      "metadata": {
        "id": "m0FqPAhFjl_i",
        "colab_type": "code",
        "colab": {}
      },
      "source": [
        "classifier.add(MaxPooling2D(pool_size = (2,2)))"
      ],
      "execution_count": 0,
      "outputs": []
    },
    {
      "cell_type": "markdown",
      "metadata": {
        "id": "u1K-yVNClI-w",
        "colab_type": "text"
      },
      "source": [
        "#Adding multiple convolution layers"
      ]
    },
    {
      "cell_type": "code",
      "metadata": {
        "id": "Ans-nO31jvqv",
        "colab_type": "code",
        "colab": {}
      },
      "source": [
        "\n",
        "classifier.add(Convolution2D(32, (3, 3), activation = 'relu'))\n",
        "classifier.add(MaxPooling2D(pool_size = (2,2)))\n"
      ],
      "execution_count": 0,
      "outputs": []
    },
    {
      "cell_type": "code",
      "metadata": {
        "id": "a8OyqJBzrT_O",
        "colab_type": "code",
        "colab": {}
      },
      "source": [
        "\n",
        "classifier.add(Convolution2D(32, (3, 3), activation = 'relu'))\n",
        "classifier.add(MaxPooling2D(pool_size = (2,2)))\n"
      ],
      "execution_count": 0,
      "outputs": []
    },
    {
      "cell_type": "markdown",
      "metadata": {
        "id": "1krhe1nBmp4e",
        "colab_type": "text"
      },
      "source": [
        "# Step 3 - Flattening"
      ]
    },
    {
      "cell_type": "code",
      "metadata": {
        "id": "gijYXbVulYbs",
        "colab_type": "code",
        "colab": {}
      },
      "source": [
        "\n",
        "classifier.add(Flatten())\n"
      ],
      "execution_count": 0,
      "outputs": []
    },
    {
      "cell_type": "markdown",
      "metadata": {
        "id": "4TMJzjcXmrO8",
        "colab_type": "text"
      },
      "source": [
        "# Step 4 - Full connection"
      ]
    },
    {
      "cell_type": "code",
      "metadata": {
        "id": "5IixvqHelcYp",
        "colab_type": "code",
        "colab": {}
      },
      "source": [
        "\n",
        "classifier.add(Dense(activation = 'relu', units = 128))\n",
        "classifier.add(Dense(activation = 'sigmoid', units = 1))"
      ],
      "execution_count": 0,
      "outputs": []
    },
    {
      "cell_type": "markdown",
      "metadata": {
        "id": "q0wpvPvenQP5",
        "colab_type": "text"
      },
      "source": [
        "# Compiling the CNN"
      ]
    },
    {
      "cell_type": "code",
      "metadata": {
        "id": "8uHmmujlIHf7",
        "colab_type": "code",
        "colab": {}
      },
      "source": [
        "classifier.compile(optimizer = 'sgd', loss = 'binary_crossentropy', metrics = ['accuracy'])"
      ],
      "execution_count": 0,
      "outputs": []
    },
    {
      "cell_type": "markdown",
      "metadata": {
        "id": "NuUPc4kEnTIf",
        "colab_type": "text"
      },
      "source": [
        "# Part 2 Fitting the CNN to the images"
      ]
    },
    {
      "cell_type": "markdown",
      "metadata": {
        "id": "LB7AhP2wGHgX",
        "colab_type": "text"
      },
      "source": [
        "# unzipping a file uploaded on the drive"
      ]
    },
    {
      "cell_type": "code",
      "metadata": {
        "id": "0zvmPXim46vp",
        "colab_type": "code",
        "colab": {}
      },
      "source": [
        "!pip install PyDrive"
      ],
      "execution_count": 0,
      "outputs": []
    },
    {
      "cell_type": "code",
      "metadata": {
        "id": "jIxY0HLG4-lT",
        "colab_type": "code",
        "colab": {}
      },
      "source": [
        "import os\n",
        "from pydrive.auth import GoogleAuth\n",
        "from pydrive.drive import GoogleDrive\n",
        "from google.colab import auth\n",
        "from oauth2client.client import GoogleCredentials"
      ],
      "execution_count": 0,
      "outputs": []
    },
    {
      "cell_type": "code",
      "metadata": {
        "id": "Ybs8Ojtb5L_U",
        "colab_type": "code",
        "colab": {}
      },
      "source": [
        "auth.authenticate_user()\n",
        "gauth = GoogleAuth()\n",
        "gauth.credentials = GoogleCredentials.get_application_default()\n",
        "drive = GoogleDrive(gauth)"
      ],
      "execution_count": 0,
      "outputs": []
    },
    {
      "cell_type": "code",
      "metadata": {
        "id": "MJiYjk075giD",
        "colab_type": "code",
        "colab": {}
      },
      "source": [
        "download = drive.CreateFile({'id': '17SzuqDzvm9Uqx4GPqwSI0Yt8NebueeEy'})\n",
        "download.GetContentFile('dataset.tar')"
      ],
      "execution_count": 0,
      "outputs": []
    },
    {
      "cell_type": "code",
      "metadata": {
        "colab_type": "code",
        "id": "b3V7EpmzYa2A",
        "colab": {}
      },
      "source": [
        "from google.colab import files"
      ],
      "execution_count": 0,
      "outputs": []
    },
    {
      "cell_type": "code",
      "metadata": {
        "id": "cFZtDjut56pu",
        "colab_type": "code",
        "colab": {}
      },
      "source": [
        "!unzip dataset.tar\n"
      ],
      "execution_count": 0,
      "outputs": []
    },
    {
      "cell_type": "markdown",
      "metadata": {
        "id": "4u5btupdGvzY",
        "colab_type": "text"
      },
      "source": [
        "# obtaining the dataset"
      ]
    },
    {
      "cell_type": "code",
      "metadata": {
        "id": "xTbJbLdXlbtL",
        "colab_type": "code",
        "colab": {}
      },
      "source": [
        "\n",
        "from keras.preprocessing.image import ImageDataGenerator\n",
        "train_datagen = ImageDataGenerator(\n",
        "                                    rescale=1./255,\n",
        "                                    shear_range=0.2,\n",
        "                                    zoom_range=0.2,\n",
        "                                    horizontal_flip=True)\n",
        "\n",
        "test_datagen = ImageDataGenerator(rescale=1./255)\n",
        "\n",
        "training_set = train_datagen.flow_from_directory(\n",
        "                                                 'dataset/training_set',\n",
        "                                                  target_size=(128, 128),\n",
        "                                                  batch_size=64,\n",
        "                                                  class_mode='binary',\n",
        "                                                 shuffle=True)\n",
        "\n",
        "test_set = test_datagen.flow_from_directory(\n",
        "                                            'dataset/test_set',\n",
        "                                            target_size=(128, 128),\n",
        "                                            batch_size=64,\n",
        "                                            class_mode='binary',\n",
        "                                            shuffle=True)\n",
        "\n"
      ],
      "execution_count": 0,
      "outputs": []
    },
    {
      "cell_type": "markdown",
      "metadata": {
        "id": "e-oiEpTeyYNn",
        "colab_type": "text"
      },
      "source": [
        "# Fitting the model"
      ]
    },
    {
      "cell_type": "code",
      "metadata": {
        "id": "_oBRfTxayYwu",
        "colab_type": "code",
        "colab": {}
      },
      "source": [
        "history = classifier.fit_generator(\n",
        "                         training_set,\n",
        "                         samples_per_epoch = 6169,\n",
        "                         epochs=100,\n",
        "                         validation_data = test_set,\n",
        "                         validation_steps = 1531)"
      ],
      "execution_count": 0,
      "outputs": []
    },
    {
      "cell_type": "markdown",
      "metadata": {
        "id": "9ERkLMpMOr4i",
        "colab_type": "text"
      },
      "source": [
        "# Plotting the results\n"
      ]
    },
    {
      "cell_type": "code",
      "metadata": {
        "id": "aVL0ZCa0gFk6",
        "colab_type": "code",
        "colab": {}
      },
      "source": [
        "import matplotlib.pyplot as plt\n",
        "\n",
        "acc = history.history['acc']\n",
        "val_acc = history.history['val_acc']\n",
        "\n",
        "loss=history.history['loss']\n",
        "val_loss=history.history['val_loss']\n",
        "\n",
        "epochs_range = range(10)\n",
        "\n",
        "plt.figure(figsize=(8, 8))\n",
        "plt.ylim(0.60, 0.99)\n",
        "plt.subplot(1, 2, 1)\n",
        "plt.plot(epochs_range, acc, label='Training Acc')\n",
        "plt.plot(epochs_range, val_acc, label='Validation Acc')\n",
        "plt.legend(loc='lower right')\n",
        "plt.title('Training and Validation Accuracy')\n",
        "\n",
        "plt.subplot(1, 2, 2)\n",
        "\n",
        "plt.plot(epochs_range, loss, label='Training Loss')\n",
        "plt.plot(epochs_range, val_loss, label='Validation Loss')\n",
        "plt.legend(loc='upper right')\n",
        "plt.title('Training and Validation Loss')\n",
        "plt.show()"
      ],
      "execution_count": 0,
      "outputs": []
    },
    {
      "cell_type": "code",
      "metadata": {
        "id": "rWu5jDVyGi73",
        "colab_type": "code",
        "colab": {}
      },
      "source": [
        "classifier.summary()"
      ],
      "execution_count": 0,
      "outputs": []
    },
    {
      "cell_type": "markdown",
      "metadata": {
        "id": "RWl60ZFRtW5M",
        "colab_type": "text"
      },
      "source": [
        "#  Displaying images (can be ignored while testing)\n"
      ]
    },
    {
      "cell_type": "code",
      "metadata": {
        "id": "hXlXMc3KzPgU",
        "colab_type": "code",
        "colab": {}
      },
      "source": [
        "sample_training_images, _ = next(train_datagen)"
      ],
      "execution_count": 0,
      "outputs": []
    },
    {
      "cell_type": "code",
      "metadata": {
        "id": "pbMnHdH4tZxv",
        "colab_type": "code",
        "colab": {}
      },
      "source": [
        "\n",
        "# This function will plot images in the form of a grid with 1 row and 5 columns where images are placed in each column.\n",
        "def plotImages(images_arr):\n",
        "    fig, axes = plt.subplots(1, 5, figsize=(20,20))\n",
        "    axes = axes.flatten()\n",
        "    for img, ax in zip( images_arr, axes):\n",
        "        ax.imshow(img)\n",
        "        ax.axis('off')\n",
        "    plt.tight_layout()\n",
        "    plt.show()\n",
        "  plotImages(sample_training_images[:5])"
      ],
      "execution_count": 0,
      "outputs": []
    },
    {
      "cell_type": "markdown",
      "metadata": {
        "id": "_D5NCc8BxceF",
        "colab_type": "text"
      },
      "source": [
        "# Evaluating"
      ]
    },
    {
      "cell_type": "code",
      "metadata": {
        "id": "Crlo29f8xfSN",
        "colab_type": "code",
        "colab": {}
      },
      "source": [
        "loss, acc = classifier.evaluate(test_set,  verbose = 0)\n",
        "print(acc * 100)\n",
        "print(loss)"
      ],
      "execution_count": 0,
      "outputs": []
    },
    {
      "cell_type": "markdown",
      "metadata": {
        "id": "sOrJ_WrVjddO",
        "colab_type": "text"
      },
      "source": [
        ""
      ]
    }
  ]
}